{
 "cells": [
  {
   "cell_type": "code",
   "execution_count": 1,
   "metadata": {},
   "outputs": [],
   "source": [
    "import pandas as pd\n",
    "from scipy import stats\n",
    "import matplotlib.pyplot as plt\n",
    "import seaborn as sns\n",
    "import numpy as np\n",
    "sns.set_style(\"darkgrid\")\n",
    "%matplotlib inline"
   ]
  },
  {
   "cell_type": "code",
   "execution_count": 6,
   "metadata": {},
   "outputs": [
    {
     "data": {
      "text/html": [
       "<div>\n",
       "<style scoped>\n",
       "    .dataframe tbody tr th:only-of-type {\n",
       "        vertical-align: middle;\n",
       "    }\n",
       "\n",
       "    .dataframe tbody tr th {\n",
       "        vertical-align: top;\n",
       "    }\n",
       "\n",
       "    .dataframe thead th {\n",
       "        text-align: right;\n",
       "    }\n",
       "</style>\n",
       "<table border=\"1\" class=\"dataframe\">\n",
       "  <thead>\n",
       "    <tr style=\"text-align: right;\">\n",
       "      <th></th>\n",
       "      <th>Token</th>\n",
       "      <th>POS</th>\n",
       "      <th>Chunk</th>\n",
       "      <th>Label</th>\n",
       "    </tr>\n",
       "  </thead>\n",
       "  <tbody>\n",
       "    <tr>\n",
       "      <th>0</th>\n",
       "      <td>-DOCSTART-</td>\n",
       "      <td>-X-</td>\n",
       "      <td>O</td>\n",
       "      <td>O</td>\n",
       "    </tr>\n",
       "    <tr>\n",
       "      <th>1</th>\n",
       "      <td>EU</td>\n",
       "      <td>NNP</td>\n",
       "      <td>I-NP</td>\n",
       "      <td>B-ORG</td>\n",
       "    </tr>\n",
       "    <tr>\n",
       "      <th>2</th>\n",
       "      <td>rejects</td>\n",
       "      <td>VBZ</td>\n",
       "      <td>I-VP</td>\n",
       "      <td>O</td>\n",
       "    </tr>\n",
       "    <tr>\n",
       "      <th>3</th>\n",
       "      <td>German</td>\n",
       "      <td>JJ</td>\n",
       "      <td>I-NP</td>\n",
       "      <td>B-MISC</td>\n",
       "    </tr>\n",
       "    <tr>\n",
       "      <th>4</th>\n",
       "      <td>call</td>\n",
       "      <td>NN</td>\n",
       "      <td>I-NP</td>\n",
       "      <td>O</td>\n",
       "    </tr>\n",
       "  </tbody>\n",
       "</table>\n",
       "</div>"
      ],
      "text/plain": [
       "        Token  POS Chunk   Label\n",
       "0  -DOCSTART-  -X-     O       O\n",
       "1          EU  NNP  I-NP   B-ORG\n",
       "2     rejects  VBZ  I-VP       O\n",
       "3      German   JJ  I-NP  B-MISC\n",
       "4        call   NN  I-NP       O"
      ]
     },
     "execution_count": 6,
     "metadata": {},
     "output_type": "execute_result"
    }
   ],
   "source": [
    "data = pd.read_csv(\"../data/eng.train\", header=None, names=[\"Token\", \"POS\", \"Chunk\", \"Label\"], delimiter=' ')\n",
    "data.head()"
   ]
  },
  {
   "cell_type": "code",
   "execution_count": 7,
   "metadata": {},
   "outputs": [],
   "source": [
    "data= data.dropna()"
   ]
  },
  {
   "cell_type": "code",
   "execution_count": 8,
   "metadata": {},
   "outputs": [],
   "source": [
    "data[\"TokenLen\"] = data[\"Token\"].apply(len)\n",
    "data= data[1:]"
   ]
  },
  {
   "cell_type": "code",
   "execution_count": 9,
   "metadata": {},
   "outputs": [
    {
     "data": {
      "text/html": [
       "<div>\n",
       "<style scoped>\n",
       "    .dataframe tbody tr th:only-of-type {\n",
       "        vertical-align: middle;\n",
       "    }\n",
       "\n",
       "    .dataframe tbody tr th {\n",
       "        vertical-align: top;\n",
       "    }\n",
       "\n",
       "    .dataframe thead th {\n",
       "        text-align: right;\n",
       "    }\n",
       "</style>\n",
       "<table border=\"1\" class=\"dataframe\">\n",
       "  <thead>\n",
       "    <tr style=\"text-align: right;\">\n",
       "      <th></th>\n",
       "      <th>Token</th>\n",
       "      <th>POS</th>\n",
       "      <th>Chunk</th>\n",
       "      <th>Label</th>\n",
       "      <th>TokenLen</th>\n",
       "      <th>Coarse-label</th>\n",
       "    </tr>\n",
       "  </thead>\n",
       "  <tbody>\n",
       "    <tr>\n",
       "      <th>1</th>\n",
       "      <td>EU</td>\n",
       "      <td>NNP</td>\n",
       "      <td>I-NP</td>\n",
       "      <td>B-ORG</td>\n",
       "      <td>2</td>\n",
       "      <td>ORG</td>\n",
       "    </tr>\n",
       "    <tr>\n",
       "      <th>2</th>\n",
       "      <td>rejects</td>\n",
       "      <td>VBZ</td>\n",
       "      <td>I-VP</td>\n",
       "      <td>O</td>\n",
       "      <td>7</td>\n",
       "      <td>O</td>\n",
       "    </tr>\n",
       "    <tr>\n",
       "      <th>3</th>\n",
       "      <td>German</td>\n",
       "      <td>JJ</td>\n",
       "      <td>I-NP</td>\n",
       "      <td>B-MISC</td>\n",
       "      <td>6</td>\n",
       "      <td>MISC</td>\n",
       "    </tr>\n",
       "    <tr>\n",
       "      <th>4</th>\n",
       "      <td>call</td>\n",
       "      <td>NN</td>\n",
       "      <td>I-NP</td>\n",
       "      <td>O</td>\n",
       "      <td>4</td>\n",
       "      <td>O</td>\n",
       "    </tr>\n",
       "    <tr>\n",
       "      <th>5</th>\n",
       "      <td>to</td>\n",
       "      <td>TO</td>\n",
       "      <td>I-VP</td>\n",
       "      <td>O</td>\n",
       "      <td>2</td>\n",
       "      <td>O</td>\n",
       "    </tr>\n",
       "  </tbody>\n",
       "</table>\n",
       "</div>"
      ],
      "text/plain": [
       "     Token  POS Chunk   Label  TokenLen Coarse-label\n",
       "1       EU  NNP  I-NP   B-ORG         2          ORG\n",
       "2  rejects  VBZ  I-VP       O         7            O\n",
       "3   German   JJ  I-NP  B-MISC         6         MISC\n",
       "4     call   NN  I-NP       O         4            O\n",
       "5       to   TO  I-VP       O         2            O"
      ]
     },
     "execution_count": 9,
     "metadata": {},
     "output_type": "execute_result"
    }
   ],
   "source": [
    "data[\"Coarse-label\"] = data[\"Label\"].apply(lambda x: x.split(\"-\")[-1])\n",
    "data.head()"
   ]
  },
  {
   "cell_type": "code",
   "execution_count": 10,
   "metadata": {},
   "outputs": [],
   "source": [
    "grouped_data = data.groupby(\"Coarse-label\")"
   ]
  },
  {
   "cell_type": "code",
   "execution_count": 11,
   "metadata": {},
   "outputs": [
    {
     "name": "stdout",
     "output_type": "stream",
     "text": [
      "Basic Stats for group for PER\n",
      "Mode of Token Length ModeResult(mode=array([5]), count=array([2402]))\n",
      "Mean of the Token Length 6.0608375269590224\n",
      "Max: 18 and min: 1 \n",
      "0 0\n",
      "Basic Stats for group for MISC\n",
      "Mode of Token Length ModeResult(mode=array([7]), count=array([973]))\n",
      "Mean of the Token Length 6.45199216198563\n",
      "Max: 21 and min: 1 \n",
      "0 0\n",
      "Basic Stats for group for ORG\n",
      "Mode of Token Length ModeResult(mode=array([7]), count=array([1516]))\n",
      "Mean of the Token Length 6.284588528678304\n",
      "Max: 18 and min: 1 \n",
      "0 0\n",
      "Basic Stats for group for O\n",
      "Mode of Token Length ModeResult(mode=array([1]), count=array([33128]))\n",
      "Mean of the Token Length 4.071028026279835\n",
      "Max: 61 and min: 1 \n",
      "0 0\n",
      "Basic Stats for group for LOC\n",
      "Mode of Token Length ModeResult(mode=array([6]), count=array([1759]))\n",
      "Mean of the Token Length 6.255393515728577\n",
      "Max: 27 and min: 1 \n",
      "0 0\n"
     ]
    },
    {
     "data": {
      "image/png": "[encoded data removed]",
      "text/plain": [
       "<Figure size 432x288 with 1 Axes>"
      ]
     },
     "metadata": {
      "needs_background": "light"
     },
     "output_type": "display_data"
    }
   ],
   "source": [
    "my_palette = sns.color_palette(\"muted\")\n",
    "kwargs = dict(hist_kws={'alpha':.6}, kde_kws={'linewidth':2})\n",
    "# fig, axes = plt.subplots(1, 5, figsize=(10, 3), sharey=True, dpi = 200)\n",
    "i,j = 0,0\n",
    "for group in list(set(data[\"Coarse-label\"])):\n",
    "    print(\"Basic Stats for group for {0}\".format(group))\n",
    "    subset = grouped_data.get_group(group)\n",
    "    print(\"Mode of Token Length\", stats.mode(subset[\"TokenLen\"]))\n",
    "    print(\"Mean of the Token Length\", np.mean(subset[\"TokenLen\"]))\n",
    "    print(\"Max: {0} and min: {1} \".format(max(subset[\"TokenLen\"]), min(subset[\"TokenLen\"])))\n",
    "    print(i, j)\n",
    "    sns.distplot(subset[\"TokenLen\"], hist=False, kde=True,label = group)\n",
    "    plt.legend()\n",
    "    plt.xlim(0,20)\n",
    "#     sns.boxplot(subset[\"TokenLen\"], ax=axes[i,j])\n",
    "#     i += 1\n",
    "#     if(j == 3):\n",
    "#         j = 0\n",
    "#         i += 1"
   ]
  },
  {
   "cell_type": "code",
   "execution_count": 30,
   "metadata": {},
   "outputs": [
    {
     "data": {
      "text/html": [
       "<div>\n",
       "<style scoped>\n",
       "    .dataframe tbody tr th:only-of-type {\n",
       "        vertical-align: middle;\n",
       "    }\n",
       "\n",
       "    .dataframe tbody tr th {\n",
       "        vertical-align: top;\n",
       "    }\n",
       "\n",
       "    .dataframe thead th {\n",
       "        text-align: right;\n",
       "    }\n",
       "</style>\n",
       "<table border=\"1\" class=\"dataframe\">\n",
       "  <thead>\n",
       "    <tr style=\"text-align: right;\">\n",
       "      <th></th>\n",
       "      <th>Token</th>\n",
       "      <th>POS</th>\n",
       "      <th>Chunk</th>\n",
       "      <th>Label</th>\n",
       "      <th>EOS</th>\n",
       "    </tr>\n",
       "  </thead>\n",
       "  <tbody>\n",
       "    <tr>\n",
       "      <th>0</th>\n",
       "      <td>-DOCSTART-</td>\n",
       "      <td>-X-</td>\n",
       "      <td>O</td>\n",
       "      <td>O</td>\n",
       "      <td>False</td>\n",
       "    </tr>\n",
       "    <tr>\n",
       "      <th>1</th>\n",
       "      <td>NaN</td>\n",
       "      <td>NaN</td>\n",
       "      <td>NaN</td>\n",
       "      <td>NaN</td>\n",
       "      <td>True</td>\n",
       "    </tr>\n",
       "    <tr>\n",
       "      <th>2</th>\n",
       "      <td>EU</td>\n",
       "      <td>NNP</td>\n",
       "      <td>I-NP</td>\n",
       "      <td>B-ORG</td>\n",
       "      <td>False</td>\n",
       "    </tr>\n",
       "    <tr>\n",
       "      <th>3</th>\n",
       "      <td>rejects</td>\n",
       "      <td>VBZ</td>\n",
       "      <td>I-VP</td>\n",
       "      <td>O</td>\n",
       "      <td>False</td>\n",
       "    </tr>\n",
       "    <tr>\n",
       "      <th>4</th>\n",
       "      <td>German</td>\n",
       "      <td>JJ</td>\n",
       "      <td>I-NP</td>\n",
       "      <td>B-MISC</td>\n",
       "      <td>False</td>\n",
       "    </tr>\n",
       "  </tbody>\n",
       "</table>\n",
       "</div>"
      ],
      "text/plain": [
       "        Token  POS Chunk   Label    EOS\n",
       "0  -DOCSTART-  -X-     O       O  False\n",
       "1         NaN  NaN   NaN     NaN   True\n",
       "2          EU  NNP  I-NP   B-ORG  False\n",
       "3     rejects  VBZ  I-VP       O  False\n",
       "4      German   JJ  I-NP  B-MISC  False"
      ]
     },
     "execution_count": 30,
     "metadata": {},
     "output_type": "execute_result"
    }
   ],
   "source": [
    "data = pd.read_csv(\"../data/eng.train\", \n",
    "                   header=None, \n",
    "                   names=[\"Token\",\"POS\", \"Chunk\", \"Label\"], \n",
    "                   delimiter=' ', skip_blank_lines = False)\n",
    "\n",
    "data['EOS'] = pd.isnull(data[\"Token\"])\n",
    "data.head()"
   ]
  },
  {
   "cell_type": "code",
   "execution_count": 31,
   "metadata": {},
   "outputs": [
    {
     "name": "stderr",
     "output_type": "stream",
     "text": [
      "100%|██████████| 219554/219554 [00:35<00:00, 6121.95it/s]\n"
     ]
    }
   ],
   "source": [
    "import math\n",
    "from tqdm import tqdm\n",
    "\n",
    "position_in_sen = []\n",
    "temp = 0\n",
    "for row in tqdm(range(0,len(data))):\n",
    "#     print(data.iloc[row])\n",
    "    position_in_sen.append(temp)\n",
    "    if data.iloc[row][\"EOS\"] == True:\n",
    "        temp = 0\n",
    "    else:\n",
    "        temp = temp+1"
   ]
  },
  {
   "cell_type": "code",
   "execution_count": 32,
   "metadata": {},
   "outputs": [
    {
     "data": {
      "text/html": [
       "<div>\n",
       "<style scoped>\n",
       "    .dataframe tbody tr th:only-of-type {\n",
       "        vertical-align: middle;\n",
       "    }\n",
       "\n",
       "    .dataframe tbody tr th {\n",
       "        vertical-align: top;\n",
       "    }\n",
       "\n",
       "    .dataframe thead th {\n",
       "        text-align: right;\n",
       "    }\n",
       "</style>\n",
       "<table border=\"1\" class=\"dataframe\">\n",
       "  <thead>\n",
       "    <tr style=\"text-align: right;\">\n",
       "      <th></th>\n",
       "      <th>Token</th>\n",
       "      <th>POS</th>\n",
       "      <th>Chunk</th>\n",
       "      <th>Label</th>\n",
       "      <th>EOS</th>\n",
       "      <th>position</th>\n",
       "    </tr>\n",
       "  </thead>\n",
       "  <tbody>\n",
       "    <tr>\n",
       "      <th>0</th>\n",
       "      <td>-DOCSTART-</td>\n",
       "      <td>-X-</td>\n",
       "      <td>O</td>\n",
       "      <td>O</td>\n",
       "      <td>False</td>\n",
       "      <td>0</td>\n",
       "    </tr>\n",
       "    <tr>\n",
       "      <th>1</th>\n",
       "      <td>NaN</td>\n",
       "      <td>NaN</td>\n",
       "      <td>NaN</td>\n",
       "      <td>NaN</td>\n",
       "      <td>True</td>\n",
       "      <td>1</td>\n",
       "    </tr>\n",
       "    <tr>\n",
       "      <th>2</th>\n",
       "      <td>EU</td>\n",
       "      <td>NNP</td>\n",
       "      <td>I-NP</td>\n",
       "      <td>B-ORG</td>\n",
       "      <td>False</td>\n",
       "      <td>0</td>\n",
       "    </tr>\n",
       "    <tr>\n",
       "      <th>3</th>\n",
       "      <td>rejects</td>\n",
       "      <td>VBZ</td>\n",
       "      <td>I-VP</td>\n",
       "      <td>O</td>\n",
       "      <td>False</td>\n",
       "      <td>1</td>\n",
       "    </tr>\n",
       "    <tr>\n",
       "      <th>4</th>\n",
       "      <td>German</td>\n",
       "      <td>JJ</td>\n",
       "      <td>I-NP</td>\n",
       "      <td>B-MISC</td>\n",
       "      <td>False</td>\n",
       "      <td>2</td>\n",
       "    </tr>\n",
       "  </tbody>\n",
       "</table>\n",
       "</div>"
      ],
      "text/plain": [
       "        Token  POS Chunk   Label    EOS  position\n",
       "0  -DOCSTART-  -X-     O       O  False         0\n",
       "1         NaN  NaN   NaN     NaN   True         1\n",
       "2          EU  NNP  I-NP   B-ORG  False         0\n",
       "3     rejects  VBZ  I-VP       O  False         1\n",
       "4      German   JJ  I-NP  B-MISC  False         2"
      ]
     },
     "execution_count": 32,
     "metadata": {},
     "output_type": "execute_result"
    }
   ],
   "source": [
    "data[\"position\"] = position_in_sen\n",
    "data.head()"
   ]
  },
  {
   "cell_type": "code",
   "execution_count": 33,
   "metadata": {},
   "outputs": [],
   "source": [
    "data = data.dropna(subset=[\"Label\", \"Token\"])"
   ]
  },
  {
   "cell_type": "code",
   "execution_count": 34,
   "metadata": {},
   "outputs": [
    {
     "data": {
      "text/html": [
       "<div>\n",
       "<style scoped>\n",
       "    .dataframe tbody tr th:only-of-type {\n",
       "        vertical-align: middle;\n",
       "    }\n",
       "\n",
       "    .dataframe tbody tr th {\n",
       "        vertical-align: top;\n",
       "    }\n",
       "\n",
       "    .dataframe thead th {\n",
       "        text-align: right;\n",
       "    }\n",
       "</style>\n",
       "<table border=\"1\" class=\"dataframe\">\n",
       "  <thead>\n",
       "    <tr style=\"text-align: right;\">\n",
       "      <th></th>\n",
       "      <th>Token</th>\n",
       "      <th>POS</th>\n",
       "      <th>Chunk</th>\n",
       "      <th>Label</th>\n",
       "      <th>EOS</th>\n",
       "      <th>position</th>\n",
       "      <th>Coarse-label</th>\n",
       "    </tr>\n",
       "  </thead>\n",
       "  <tbody>\n",
       "    <tr>\n",
       "      <th>0</th>\n",
       "      <td>-DOCSTART-</td>\n",
       "      <td>-X-</td>\n",
       "      <td>O</td>\n",
       "      <td>O</td>\n",
       "      <td>False</td>\n",
       "      <td>0</td>\n",
       "      <td>O</td>\n",
       "    </tr>\n",
       "    <tr>\n",
       "      <th>2</th>\n",
       "      <td>EU</td>\n",
       "      <td>NNP</td>\n",
       "      <td>I-NP</td>\n",
       "      <td>B-ORG</td>\n",
       "      <td>False</td>\n",
       "      <td>0</td>\n",
       "      <td>ORG</td>\n",
       "    </tr>\n",
       "    <tr>\n",
       "      <th>3</th>\n",
       "      <td>rejects</td>\n",
       "      <td>VBZ</td>\n",
       "      <td>I-VP</td>\n",
       "      <td>O</td>\n",
       "      <td>False</td>\n",
       "      <td>1</td>\n",
       "      <td>O</td>\n",
       "    </tr>\n",
       "    <tr>\n",
       "      <th>4</th>\n",
       "      <td>German</td>\n",
       "      <td>JJ</td>\n",
       "      <td>I-NP</td>\n",
       "      <td>B-MISC</td>\n",
       "      <td>False</td>\n",
       "      <td>2</td>\n",
       "      <td>MISC</td>\n",
       "    </tr>\n",
       "    <tr>\n",
       "      <th>5</th>\n",
       "      <td>call</td>\n",
       "      <td>NN</td>\n",
       "      <td>I-NP</td>\n",
       "      <td>O</td>\n",
       "      <td>False</td>\n",
       "      <td>3</td>\n",
       "      <td>O</td>\n",
       "    </tr>\n",
       "  </tbody>\n",
       "</table>\n",
       "</div>"
      ],
      "text/plain": [
       "        Token  POS Chunk   Label    EOS  position Coarse-label\n",
       "0  -DOCSTART-  -X-     O       O  False         0            O\n",
       "2          EU  NNP  I-NP   B-ORG  False         0          ORG\n",
       "3     rejects  VBZ  I-VP       O  False         1            O\n",
       "4      German   JJ  I-NP  B-MISC  False         2         MISC\n",
       "5        call   NN  I-NP       O  False         3            O"
      ]
     },
     "execution_count": 34,
     "metadata": {},
     "output_type": "execute_result"
    }
   ],
   "source": [
    "data[\"Coarse-label\"] = data[\"Label\"].apply(lambda x: x.split(\"-\")[-1])\n",
    "data.head()"
   ]
  },
  {
   "cell_type": "code",
   "execution_count": 35,
   "metadata": {},
   "outputs": [],
   "source": [
    "grouped_data = data.groupby(\"Coarse-label\")"
   ]
  },
  {
   "cell_type": "code",
   "execution_count": 36,
   "metadata": {},
   "outputs": [
    {
     "name": "stdout",
     "output_type": "stream",
     "text": [
      "Basic Stats for group for PER\n",
      "Mode of Position in a sentence  ModeResult(mode=array([1]), count=array([1702]))\n",
      "Mean of the Position in a sentence  7.91157440690151\n",
      "Max: 76 and min: 0 \n",
      "0 0\n",
      "Basic Stats for group for MISC\n",
      "Mode of Position in a sentence  ModeResult(mode=array([0]), count=array([502]))\n",
      "Mean of the Position in a sentence  10.33768778576094\n",
      "Max: 52 and min: 0 \n",
      "0 0\n",
      "Basic Stats for group for ORG\n",
      "Mode of Position in a sentence  ModeResult(mode=array([0]), count=array([2455]))\n",
      "Mean of the Position in a sentence  7.681596009975062\n",
      "Max: 56 and min: 0 \n",
      "0 0\n",
      "Basic Stats for group for O\n",
      "Mode of Position in a sentence  ModeResult(mode=array([1]), count=array([9954]))\n",
      "Mean of the Position in a sentence  11.915226650350771\n",
      "Max: 112 and min: 0 \n",
      "0 0\n",
      "Basic Stats for group for LOC\n",
      "Mode of Position in a sentence  ModeResult(mode=array([0]), count=array([1581]))\n",
      "Mean of the Position in a sentence  8.823309629986742\n",
      "Max: 53 and min: 0 \n",
      "0 0\n"
     ]
    },
    {
     "data": {
      "image/png": "[encoded data removed]",
      "text/plain": [
       "<Figure size 432x288 with 1 Axes>"
      ]
     },
     "metadata": {
      "needs_background": "light"
     },
     "output_type": "display_data"
    }
   ],
   "source": [
    "for group in list(set(data[\"Coarse-label\"])):\n",
    "    print(\"Basic Stats for group for {0}\".format(group))\n",
    "    subset = grouped_data.get_group(group)\n",
    "    print(\"Mode of Position in a sentence \", stats.mode(subset[\"position\"]))\n",
    "    print(\"Mean of the Position in a sentence \", np.mean(subset[\"position\"]))\n",
    "    print(\"Max: {0} and min: {1} \".format(max(subset[\"position\"]), min(subset[\"position\"])))\n",
    "    print(i, j)\n",
    "    sns.distplot(subset[\"position\"], hist=False, kde=True,label = group)\n",
    "    plt.legend()"
   ]
  },
  {
   "cell_type": "code",
   "execution_count": null,
   "metadata": {},
   "outputs": [],
   "source": [
    "grouped_data = data.groupby(\"Label\")"
   ]
  },
  {
   "cell_type": "code",
   "execution_count": null,
   "metadata": {},
   "outputs": [],
   "source": [
    "for group in list(set(data[\"Label\"])):\n",
    "    print(\"Basic Stats for group for {0}\".format(group))\n",
    "    subset = grouped_data.get_group(group)\n",
    "    print(\"Mode of Position in a sentence \", stats.mode(subset[\"position\"]))\n",
    "    print(\"Mean of the Position in a sentence \", np.mean(subset[\"position\"]))\n",
    "    print(\"Max: {0} and min: {1} \".format(max(subset[\"position\"]), min(subset[\"position\"])))\n",
    "    print(i, j)\n",
    "    sns.distplot(subset[\"position\"], hist=False, kde=True,label = group)\n",
    "#     plt.xlim(0,20)    \n",
    "    plt.legend()\n"
   ]
  },
  {
   "cell_type": "code",
   "execution_count": 37,
   "metadata": {},
   "outputs": [],
   "source": [
    "import scipy.stats as ss\n",
    "\n",
    "def cramers_v(x, y):\n",
    "    confusion_matrix = pd.crosstab(x,y)\n",
    "    chi2 = ss.chi2_contingency(confusion_matrix)[0]\n",
    "    n = confusion_matrix.sum().sum()\n",
    "    phi2 = chi2/n\n",
    "    r,k = confusion_matrix.shape\n",
    "    phi2corr = max(0, phi2-((k-1)*(r-1))/(n-1))\n",
    "    rcorr = r-((r-1)**2)/(n-1)\n",
    "    kcorr = k-((k-1)**2)/(n-1)\n",
    "    return np.sqrt(phi2corr/min((kcorr-1),(rcorr-1)))"
   ]
  },
  {
   "cell_type": "code",
   "execution_count": 38,
   "metadata": {},
   "outputs": [
    {
     "data": {
      "text/plain": [
       "0.4346780384911229"
      ]
     },
     "execution_count": 38,
     "metadata": {},
     "output_type": "execute_result"
    }
   ],
   "source": [
    "cramers_v(data[\"Coarse-label\"], data[\"POS\"])"
   ]
  },
  {
   "cell_type": "code",
   "execution_count": null,
   "metadata": {},
   "outputs": [],
   "source": []
  }
 ],
 "metadata": {
  "kernelspec": {
   "display_name": "Python 3",
   "language": "python",
   "name": "python3"
  },
  "language_info": {
   "codemirror_mode": {
    "name": "ipython",
    "version": 3
   },
   "file_extension": ".py",
   "mimetype": "text/x-python",
   "name": "python",
   "nbconvert_exporter": "python",
   "pygments_lexer": "ipython3",
   "version": "3.6.8"
  }
 },
 "nbformat": 4,
 "nbformat_minor": 2
}
